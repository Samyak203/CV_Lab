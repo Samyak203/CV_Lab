{
  "nbformat": 4,
  "nbformat_minor": 0,
  "metadata": {
    "colab": {
      "provenance": []
    },
    "kernelspec": {
      "name": "python3",
      "display_name": "Python 3"
    },
    "language_info": {
      "name": "python"
    }
  },
  "cells": [
    {
      "cell_type": "code",
      "execution_count": 2,
      "metadata": {
        "id": "o_hn8ZEgSpby"
      },
      "outputs": [],
      "source": [
        "import cv2\n",
        "import numpy as np\n",
        "import matplotlib.pyplot as plt\n",
        "from google.colab.patches import cv2_imshow\n",
        "from google.colab import files\n",
        "from IPython.display import Image"
      ]
    },
    {
      "cell_type": "code",
      "source": [],
      "metadata": {
        "id": "5sXd9zKEXSmV"
      },
      "execution_count": null,
      "outputs": []
    },
    {
      "cell_type": "code",
      "source": [
        "import cv2\n",
        "import numpy as np\n",
        "import matplotlib.pyplot as plt\n",
        "\n",
        "# Load the image\n",
        "image = cv2.imread('rect1.png')\n",
        "\n",
        "# Convert the image to grayscale\n",
        "gray_image = cv2.cvtColor(image, cv2.COLOR_BGR2GRAY)\n",
        "\n",
        "# Threshold the image to get a binary image\n",
        "_, binary_image = cv2.threshold(gray_image, 127, 255, cv2.THRESH_BINARY_INV)\n",
        "# Find contours\n",
        "contours, _ = cv2.findContours(binary_image, cv2.RETR_TREE, cv2.CHAIN_APPROX_NONE)\n",
        "\n",
        "# Display the original image and contour image using pyplot\n",
        "plt.figure(figsize=(10, 5))\n",
        "\n",
        "# Original image\n",
        "plt.subplot(1, 2, 1)\n",
        "plt.imshow(cv2.cvtColor(image, cv2.COLOR_BGR2RGB))\n",
        "plt.title('Original Image')\n",
        "plt.axis('off')\n",
        "\n",
        "# Contour image\n",
        "contour_image = np.zeros_like(image)\n",
        "for contour in contours:\n",
        "    cv2.drawContours(contour_image, [contour], -1, (0, 255, 0), 2)\n",
        "\n",
        "plt.subplot(1, 2, 2)\n",
        "plt.imshow(cv2.cvtColor(contour_image, cv2.COLOR_BGR2RGB))\n",
        "plt.title('Contours')\n",
        "plt.axis('off')\n",
        "\n",
        "plt.show()\n",
        "\n",
        "# Generate chain code for each contour\n",
        "for i, contour in enumerate(contours):\n",
        "    chain_code = []\n",
        "    for j in range(1, len(contour)):\n",
        "      if j%35==0:\n",
        "        # Calculate the direction from the previous point to the current one\n",
        "        dx = contour[j][0][0] - contour[j-1][0][0]\n",
        "        dy = contour[j][0][1] - contour[j-1][0][1]\n",
        "\n",
        "        # Encode the direction into a chain code\n",
        "        if dx == 1 and dy == 0:\n",
        "            chain_code.append(0)\n",
        "        elif dx == 1 and dy == 1:\n",
        "            chain_code.append(1)\n",
        "        elif dx == 0 and dy == 1:\n",
        "            chain_code.append(2)\n",
        "        elif dx == -1 and dy == 1:\n",
        "            chain_code.append(3)\n",
        "        elif dx == -1 and dy == 0:\n",
        "            chain_code.append(4)\n",
        "        elif dx == -1 and dy == -1:\n",
        "            chain_code.append(5)\n",
        "        elif dx == 0 and dy == -1:\n",
        "            chain_code.append(6)\n",
        "        elif dx == 1 and dy == -1:\n",
        "            chain_code.append(7)\n",
        "\n",
        "    # Print the chain code for each contour\n",
        "    print(\"Chain Code for Contour \\n\", i+1, \":\", chain_code)\n"
      ],
      "metadata": {
        "colab": {
          "base_uri": "https://localhost:8080/",
          "height": 440
        },
        "id": "6x1e_H62ZWoU",
        "outputId": "73ff5bdd-510a-4d54-8974-e27750f279cb"
      },
      "execution_count": 10,
      "outputs": [
        {
          "output_type": "display_data",
          "data": {
            "text/plain": [
              "<Figure size 1000x500 with 2 Axes>"
            ],
            "image/png": "[encoded data removed]"
          },
          "metadata": {}
        },
        {
          "output_type": "stream",
          "name": "stdout",
          "text": [
            "Chain Code for Contour \n",
            " 1 : [2, 2, 0, 0, 0, 0, 6, 6, 4, 4, 4, 4]\n",
            "Chain Code for Contour \n",
            " 2 : [0, 0, 0, 2, 2, 2, 4, 4, 4, 4, 6, 6]\n"
          ]
        }
      ]
    },
    {
      "cell_type": "code",
      "source": [
        "print(image.shape)"
      ],
      "metadata": {
        "colab": {
          "base_uri": "https://localhost:8080/"
        },
        "id": "IyKjZApJkdty",
        "outputId": "37c71846-7d52-4e9b-da4a-7b70f577c36b"
      },
      "execution_count": 16,
      "outputs": [
        {
          "output_type": "stream",
          "name": "stdout",
          "text": [
            "(148, 167, 3)\n"
          ]
        }
      ]
    },
    {
      "cell_type": "code",
      "source": [
        "import cv2\n",
        "import numpy as np\n",
        "import matplotlib.pyplot as plt\n",
        "\n",
        "# Load the image\n",
        "image = cv2.imread('rect1.png')\n",
        "\n",
        "# Adjust the center and size based on the new image size\n",
        "center = (148 // 2, 167 // 2)\n",
        "new_size = (120, 148)\n",
        "\n",
        "# Rotation matrix\n",
        "m = cv2.getRotationMatrix2D(center, 90, 1)\n",
        "image1 = cv2.warpAffine(image, m, new_size)\n",
        "\n",
        "# Convert the image to grayscale\n",
        "gray_image = cv2.cvtColor(image1, cv2.COLOR_BGR2GRAY)\n",
        "\n",
        "# Threshold the image to get a binary image\n",
        "_, binary_image = cv2.threshold(gray_image, 127, 255, cv2.THRESH_BINARY_INV)\n",
        "\n",
        "# Find contours\n",
        "contours, _ = cv2.findContours(binary_image, cv2.RETR_TREE, cv2.CHAIN_APPROX_NONE)\n",
        "\n",
        "# Display the original image and contour image using pyplot\n",
        "plt.figure(figsize=(10, 5))\n",
        "\n",
        "# Original image\n",
        "plt.subplot(1, 2, 1)\n",
        "plt.imshow(cv2.cvtColor(image1, cv2.COLOR_BGR2RGB))\n",
        "plt.title('Original Image')\n",
        "plt.axis('off')\n",
        "\n",
        "# Contour image\n",
        "contour_image = np.zeros_like(image1)\n",
        "for contour in contours:\n",
        "    cv2.drawContours(contour_image, [contour], -1, (0, 255, 0), 2)\n",
        "\n",
        "plt.subplot(1, 2, 2)\n",
        "plt.imshow(cv2.cvtColor(contour_image, cv2.COLOR_BGR2RGB))\n",
        "plt.title('Contours')\n",
        "plt.axis('off')\n",
        "\n",
        "plt.show()\n",
        "\n",
        "# Generate chain code for each contour\n",
        "for i, contour in enumerate(contours):\n",
        "    chain_code = []\n",
        "\n",
        "    # Find the starting point of the contour\n",
        "    start_point = min(contour[:, 0, 0])  # Minimum x-coordinate\n",
        "\n",
        "    for j in range(1, len(contour)):\n",
        "        if j % 35 == 0:\n",
        "            # Calculate the direction from the previous point to the current one\n",
        "            dx = contour[j][0][0] - contour[j - 1][0][0]\n",
        "            dy = contour[j][0][1] - contour[j - 1][0][1]\n",
        "\n",
        "            # Encode the direction into a chain code\n",
        "            if dx == 1 and dy == 0:\n",
        "                chain_code.append(0)\n",
        "           # elif dx == 1 and dy == 1:\n",
        "             #   chain_code.append(1)\n",
        "            elif dx == 0 and dy == 1:\n",
        "                chain_code.append(1)\n",
        "          #  elif dx == -1 and dy == 1:\n",
        "            #    chain_code.append(3)\n",
        "            elif dx == -1 and dy == 0:\n",
        "                chain_code.append(2)\n",
        "            #elif dx == -1 and dy == -1:\n",
        "              #  chain_code.append(5)\n",
        "            elif dx == 0 and dy == -1:\n",
        "                chain_code.append(3)\n",
        "            #elif dx == 1 and dy == -1:\n",
        "              #  chain_code.append(7)\n",
        "\n",
        "    # Adjust chain code to start from the minimum x-coordinate point\n",
        "    start_index = np.argmin(contour[:, 0, 0])\n",
        "    chain_code = chain_code[start_index:] + chain_code[:start_index]\n",
        "\n",
        "    # Print the chain code for each contour\n",
        "    print(\"Chain Code for Contour\", i + 1, \":\", chain_code)\n"
      ],
      "metadata": {
        "id": "xaitYGn-fnA6",
        "colab": {
          "base_uri": "https://localhost:8080/",
          "height": 479
        },
        "outputId": "b4009df5-84a8-4086-a936-ad29e9cbff48"
      },
      "execution_count": 23,
      "outputs": [
        {
          "output_type": "display_data",
          "data": {
            "text/plain": [
              "<Figure size 1000x500 with 2 Axes>"
            ],
            "image/png": "[encoded data removed]"
          },
          "metadata": {}
        },
        {
          "output_type": "stream",
          "name": "stdout",
          "text": [
            "Chain Code for Contour 1 : [1, 1, 1, 0, 0, 3, 3, 3, 3, 2, 2]\n",
            "Chain Code for Contour 2 : [0, 0, 1, 1, 1, 1, 2, 2, 3, 3, 3, 3]\n"
          ]
        }
      ]
    },
    {
      "cell_type": "code",
      "source": [],
      "metadata": {
        "id": "4xFfgVjsaQWb"
      },
      "execution_count": null,
      "outputs": []
    }
  ]
}